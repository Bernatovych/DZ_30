{
 "metadata": {
  "language_info": {
   "codemirror_mode": {
    "name": "python",
    "version": 3
   },
   "file_extension": ".py",
   "mimetype": "text/x-python",
   "name": "python",
   "nbconvert_exporter": "python",
   "pygments_lexer": "ipython3",
   "version": "3.8"
  },
  "kernelspec": {
   "name": "python3",
   "language": "python",
   "display_name": "Python 3 (ipykernel)"
  }
 },
 "nbformat_minor": 4,
 "nbformat": 4,
 "cells": [
  {
   "cell_type": "code",
   "source": "import numpy as np\n\n# Вкладчик положил 50000 условных единиц на три разных счета в три разных банка. По первому счету выплаты составят 5%\n# годовых, по второму – 7% годовых и по третьему 6% годовых. Известно, что через год вкладчик получил по процентам\n# сумму в 2250 у.е. с первого и второго банка и сумму в 1400 у.е. с первого и третьего банка. Сколько условных единиц\n# он положил на каждый счет изначально?\n\n\nA = np.array([[0.05, 0.07, 0], [0.05, 0, 0.06], [1, 1, 1]])\nb = np.array([2250, 1400, 50000])\nA_inv = np.linalg.inv(A)\nA_inv.dot(b)",
   "metadata": {
    "trusted": true
   },
   "execution_count": 1,
   "outputs": [
    {
     "execution_count": 1,
     "output_type": "execute_result",
     "data": {
      "text/plain": "array([10000., 25000., 15000.])"
     },
     "metadata": {}
    }
   ]
  },
  {
   "cell_type": "code",
   "source": "#На складе хранятся мобильные телефоны iPhone 6, iPhone 11, iPhone 12 моделей. Всего 1328 экземпляра. Моделей iPhone 6\n# на 120 меньше, чем моделей iPhone 11, и на 100 больше, чем моделей iPhone 12. Сколько моделей каждого вида на складе?\n\nA = np.array([[1, 1, 1], [-1, 1, 0], [1, 0, -1]])\nb = np.array([1328, 120, 100])\nA_inv = np.linalg.inv(A)\nA_inv.dot(b)",
   "metadata": {
    "trusted": true
   },
   "execution_count": 2,
   "outputs": [
    {
     "execution_count": 2,
     "output_type": "execute_result",
     "data": {
      "text/plain": "array([436., 556., 336.])"
     },
     "metadata": {}
    }
   ]
  },
  {
   "cell_type": "code",
   "source": "# Составьте каноническое уравнение эллипсоида, проходящего через три точки A,B,C\n\nA = np.array([[3, 0, 3], [6, 1/4, 0], [1, 1/3, 1]])\nb = np.array([1, 1, 1])\nA_inv = np.linalg.inv(A)\nx = A_inv.dot(b)\nfin = []\nfor i in x:\n    fin.append([1/np.sqrt(i), -1/np.sqrt(i)])\nfin\n",
   "metadata": {
    "trusted": true
   },
   "execution_count": 7,
   "outputs": [
    {
     "execution_count": 7,
     "output_type": "execute_result",
     "data": {
      "text/plain": "[[3.4641016151377553, -3.4641016151377553],\n [0.7071067811865475, -0.7071067811865475],\n [2.0000000000000004, -2.0000000000000004]]"
     },
     "metadata": {}
    }
   ]
  },
  {
   "cell_type": "code",
   "source": "# Составьте уравнение параболы проходящей через заданные три точки (1,12), (3,54), (-1,2).\n# Необходимо найти коэффициенты уравнения a,b,ca,b,c\n\nA = np.array([[1, 1, 1], [9, 3, 1], [1, -1, 1]])\nb = np.array([12, 54, 2])\nA_inv = np.linalg.inv(A)\nA_inv.dot(b)",
   "metadata": {
    "trusted": true
   },
   "execution_count": 4,
   "outputs": [
    {
     "execution_count": 4,
     "output_type": "execute_result",
     "data": {
      "text/plain": "array([4., 5., 3.])"
     },
     "metadata": {}
    }
   ]
  },
  {
   "cell_type": "code",
   "source": "# Составьте функцию get_polynom\n\ndef get_polynom(coords):\n    b = np.array([])\n    a_lists = []\n    for x, y in coords:\n        x_list = []\n        for i in range(len(coords)):\n            x_list.append(x ** i)\n        a_lists.append(x_list[::-1])\n        b = np.append(b, y)\n    a = np.array(a_lists)\n    return np.linalg.solve(a, b)\nget_polynom([(1, 12), (3, 54), (-1, 2)])",
   "metadata": {
    "trusted": true
   },
   "execution_count": 5,
   "outputs": [
    {
     "execution_count": 5,
     "output_type": "execute_result",
     "data": {
      "text/plain": "array([4., 5., 3.])"
     },
     "metadata": {}
    }
   ]
  },
  {
   "cell_type": "code",
   "source": "",
   "metadata": {},
   "execution_count": null,
   "outputs": []
  }
 ]
}